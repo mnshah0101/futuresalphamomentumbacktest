{
 "cells": [
  {
   "cell_type": "code",
   "execution_count": 108,
   "id": "fa32b3ce",
   "metadata": {},
   "outputs": [],
   "source": [
    "import pandas as pd\n",
    "import locale\n",
    "locale.setlocale(locale.LC_ALL, 'en_US.UTF-8')\n",
    "import talib as ta\n",
    "import matplotlib.pyplot as plt\n",
    "from sklearn.model_selection import train_test_split\n",
    "from sklearn.linear_model import LinearRegression\n",
    "from sklearn.tree import DecisionTreeRegressor\n",
    "from sklearn.ensemble import RandomForestRegressor\n",
    "import numpy as np\n",
    "import pandas as pd\n",
    "from sklearn.metrics import classification_report\n",
    "from sklearn.model_selection import train_test_split\n",
    "from sklearn.preprocessing import StandardScaler\n",
    "from sklearn.metrics import mean_squared_error\n",
    "from tensorflow.keras.models import Sequential\n",
    "from tensorflow.keras.layers import Dense\n",
    "from tensorflow.keras.optimizers import Adam\n",
    "from sklearn.metrics import mean_squared_error"
   ]
  },
  {
   "cell_type": "code",
   "execution_count": 109,
   "id": "7eff36fc",
   "metadata": {},
   "outputs": [
    {
     "data": {
      "text/html": [
       "<div>\n",
       "<style scoped>\n",
       "    .dataframe tbody tr th:only-of-type {\n",
       "        vertical-align: middle;\n",
       "    }\n",
       "\n",
       "    .dataframe tbody tr th {\n",
       "        vertical-align: top;\n",
       "    }\n",
       "\n",
       "    .dataframe thead th {\n",
       "        text-align: right;\n",
       "    }\n",
       "</style>\n",
       "<table border=\"1\" class=\"dataframe\">\n",
       "  <thead>\n",
       "    <tr style=\"text-align: right;\">\n",
       "      <th></th>\n",
       "      <th>Date</th>\n",
       "      <th>Price</th>\n",
       "      <th>Open</th>\n",
       "      <th>High</th>\n",
       "      <th>Low</th>\n",
       "      <th>Vol.</th>\n",
       "      <th>Change %</th>\n",
       "    </tr>\n",
       "  </thead>\n",
       "  <tbody>\n",
       "    <tr>\n",
       "      <th>4999</th>\n",
       "      <td>2000-01-10</td>\n",
       "      <td>282.70</td>\n",
       "      <td>282.40</td>\n",
       "      <td>283.90</td>\n",
       "      <td>281.80</td>\n",
       "      <td>30.60K</td>\n",
       "      <td>-0.07%</td>\n",
       "    </tr>\n",
       "    <tr>\n",
       "      <th>4998</th>\n",
       "      <td>2000-01-11</td>\n",
       "      <td>284.40</td>\n",
       "      <td>282.40</td>\n",
       "      <td>285.30</td>\n",
       "      <td>281.90</td>\n",
       "      <td>13.50K</td>\n",
       "      <td>0.60%</td>\n",
       "    </tr>\n",
       "    <tr>\n",
       "      <th>4997</th>\n",
       "      <td>2000-01-12</td>\n",
       "      <td>283.70</td>\n",
       "      <td>284.50</td>\n",
       "      <td>285.00</td>\n",
       "      <td>282.50</td>\n",
       "      <td>17.84K</td>\n",
       "      <td>-0.25%</td>\n",
       "    </tr>\n",
       "    <tr>\n",
       "      <th>4996</th>\n",
       "      <td>2000-01-13</td>\n",
       "      <td>285.10</td>\n",
       "      <td>283.50</td>\n",
       "      <td>285.90</td>\n",
       "      <td>282.90</td>\n",
       "      <td>12.17K</td>\n",
       "      <td>0.49%</td>\n",
       "    </tr>\n",
       "    <tr>\n",
       "      <th>4995</th>\n",
       "      <td>2000-01-14</td>\n",
       "      <td>284.90</td>\n",
       "      <td>285.20</td>\n",
       "      <td>285.60</td>\n",
       "      <td>284.00</td>\n",
       "      <td>32.34K</td>\n",
       "      <td>-0.07%</td>\n",
       "    </tr>\n",
       "    <tr>\n",
       "      <th>...</th>\n",
       "      <td>...</td>\n",
       "      <td>...</td>\n",
       "      <td>...</td>\n",
       "      <td>...</td>\n",
       "      <td>...</td>\n",
       "      <td>...</td>\n",
       "      <td>...</td>\n",
       "    </tr>\n",
       "    <tr>\n",
       "      <th>5004</th>\n",
       "      <td>2024-09-06</td>\n",
       "      <td>2,524.60</td>\n",
       "      <td>2,547.10</td>\n",
       "      <td>2,559.80</td>\n",
       "      <td>2,513.90</td>\n",
       "      <td>228.12K</td>\n",
       "      <td>-0.73%</td>\n",
       "    </tr>\n",
       "    <tr>\n",
       "      <th>5003</th>\n",
       "      <td>2024-09-09</td>\n",
       "      <td>2,532.70</td>\n",
       "      <td>2,526.50</td>\n",
       "      <td>2,536.50</td>\n",
       "      <td>2,514.20</td>\n",
       "      <td>140.58K</td>\n",
       "      <td>0.32%</td>\n",
       "    </tr>\n",
       "    <tr>\n",
       "      <th>5002</th>\n",
       "      <td>2024-09-10</td>\n",
       "      <td>2,543.10</td>\n",
       "      <td>2,536.00</td>\n",
       "      <td>2,547.50</td>\n",
       "      <td>2,528.90</td>\n",
       "      <td>156.11K</td>\n",
       "      <td>0.41%</td>\n",
       "    </tr>\n",
       "    <tr>\n",
       "      <th>5001</th>\n",
       "      <td>2024-09-11</td>\n",
       "      <td>2,542.40</td>\n",
       "      <td>2,545.70</td>\n",
       "      <td>2,558.00</td>\n",
       "      <td>2,529.00</td>\n",
       "      <td>194.09K</td>\n",
       "      <td>-0.03%</td>\n",
       "    </tr>\n",
       "    <tr>\n",
       "      <th>5000</th>\n",
       "      <td>2024-09-12</td>\n",
       "      <td>2,586.30</td>\n",
       "      <td>2,539.55</td>\n",
       "      <td>2,588.45</td>\n",
       "      <td>2,538.80</td>\n",
       "      <td>NaN</td>\n",
       "      <td>1.73%</td>\n",
       "    </tr>\n",
       "  </tbody>\n",
       "</table>\n",
       "<p>6254 rows × 7 columns</p>\n",
       "</div>"
      ],
      "text/plain": [
       "           Date     Price      Open      High       Low     Vol. Change %\n",
       "4999 2000-01-10    282.70    282.40    283.90    281.80   30.60K   -0.07%\n",
       "4998 2000-01-11    284.40    282.40    285.30    281.90   13.50K    0.60%\n",
       "4997 2000-01-12    283.70    284.50    285.00    282.50   17.84K   -0.25%\n",
       "4996 2000-01-13    285.10    283.50    285.90    282.90   12.17K    0.49%\n",
       "4995 2000-01-14    284.90    285.20    285.60    284.00   32.34K   -0.07%\n",
       "...         ...       ...       ...       ...       ...      ...      ...\n",
       "5004 2024-09-06  2,524.60  2,547.10  2,559.80  2,513.90  228.12K   -0.73%\n",
       "5003 2024-09-09  2,532.70  2,526.50  2,536.50  2,514.20  140.58K    0.32%\n",
       "5002 2024-09-10  2,543.10  2,536.00  2,547.50  2,528.90  156.11K    0.41%\n",
       "5001 2024-09-11  2,542.40  2,545.70  2,558.00  2,529.00  194.09K   -0.03%\n",
       "5000 2024-09-12  2,586.30  2,539.55  2,588.45  2,538.80      NaN    1.73%\n",
       "\n",
       "[6254 rows x 7 columns]"
      ]
     },
     "execution_count": 109,
     "metadata": {},
     "output_type": "execute_result"
    }
   ],
   "source": [
    "df1 = pd.read_csv('data.csv')\n",
    "df2 = pd.read_csv('data2.csv')\n",
    "df1['Date'] = pd.to_datetime(df1['Date'])\n",
    "df2['Date'] = pd.to_datetime(df2['Date'])\n",
    "filter_date = pd.to_datetime('2019-11-01')\n",
    "df2 =  df2[df2['Date'] > filter_date]\n",
    "df = pd.concat([df1,df2], ignore_index=True)\n",
    "df = df.sort_values(by='Date')\n",
    "df.drop_duplicates(subset=['Date'])"
   ]
  },
  {
   "cell_type": "code",
   "execution_count": 110,
   "id": "39f4d38a",
   "metadata": {},
   "outputs": [],
   "source": [
    "df['Price'] = df['Price'].apply(locale.atof)\n",
    "df['Open'] = df['Open'].apply(locale.atof)\n",
    "df['High'] = df['High'].apply(locale.atof)\n",
    "df['Low'] = df['Low'].apply(locale.atof)"
   ]
  },
  {
   "cell_type": "code",
   "execution_count": 111,
   "id": "34305409",
   "metadata": {},
   "outputs": [],
   "source": [
    "df = df.set_index(\"Date\")"
   ]
  },
  {
   "cell_type": "code",
   "execution_count": 112,
   "id": "67fc1a78",
   "metadata": {},
   "outputs": [
    {
     "data": {
      "text/plain": [
       "<Axes: xlabel='Date'>"
      ]
     },
     "execution_count": 112,
     "metadata": {},
     "output_type": "execute_result"
    },
    {
     "data": {
      "image/png": "[encoded data removed]",
      "text/plain": [
       "<Figure size 640x480 with 1 Axes>"
      ]
     },
     "metadata": {},
     "output_type": "display_data"
    }
   ],
   "source": [
    "df['Price'].plot()"
   ]
  },
  {
   "cell_type": "code",
   "execution_count": 113,
   "id": "309edfbd",
   "metadata": {},
   "outputs": [],
   "source": [
    "def change_percent(percentage_str):\n",
    "    return float(percentage_str.strip('%')) / 100\n",
    "def change_vol(value_str):\n",
    "    value_str = str(value_str)\n",
    "    if value_str.endswith('K'):\n",
    "        value = float(value_str[:-1]) * 1_000\n",
    "    elif value_str.endswith('M'):\n",
    "        value = float(value_str[:-1]) * 1_000_000\n",
    "    elif value_str.endswith('B'):\n",
    "        value = float(value_str[:-1]) * 1_000_000_000\n",
    "    else:\n",
    "        value = float(value_str)\n",
    "    return value"
   ]
  },
  {
   "cell_type": "code",
   "execution_count": 114,
   "id": "53488057",
   "metadata": {},
   "outputs": [],
   "source": [
    "df['Change %']=df['Change %'].apply(change_percent)"
   ]
  },
  {
   "cell_type": "code",
   "execution_count": 115,
   "id": "29af0f72",
   "metadata": {},
   "outputs": [],
   "source": [
    "df['Vol.'] = df['Vol.'].apply(change_vol)"
   ]
  },
  {
   "cell_type": "code",
   "execution_count": 116,
   "id": "72788902",
   "metadata": {},
   "outputs": [],
   "source": [
    "df['RSI'] = ta.RSI(df['Price'], timeperiod = 14)"
   ]
  },
  {
   "cell_type": "code",
   "execution_count": 117,
   "id": "62914387",
   "metadata": {},
   "outputs": [],
   "source": [
    "df['CCI'] = ta.CCI(df['High'], df['Low'], df['Price'], timeperiod=14)\n"
   ]
  },
  {
   "cell_type": "code",
   "execution_count": 118,
   "id": "3d22f2ec",
   "metadata": {},
   "outputs": [],
   "source": [
    "df['RSI_Change'] = ta.RSI(df['Change %'], timeperiod = 3)"
   ]
  },
  {
   "cell_type": "code",
   "execution_count": 119,
   "id": "716733dd",
   "metadata": {},
   "outputs": [],
   "source": [
    "df['ADX'] = ta.ADX(df['High'], df['Low'], df['Price'], timeperiod=14)\n"
   ]
  },
  {
   "cell_type": "code",
   "execution_count": 120,
   "id": "e837fbbf",
   "metadata": {},
   "outputs": [],
   "source": [
    "df['Change_SMA_3'] = ta.SMA(df['Change %'].shift(1),  timeperiod=3)\n",
    "df['Change_SMA_5'] = ta.SMA(df['Change %'].shift(1), timeperiod=5)\n",
    "df['Change_SMA_7'] = ta.SMA(df['Change %'].shift(1), timeperiod=7)\n",
    "df['Change_SMA_14'] = ta.SMA(df['Change %'].shift(1), timeperiod=14)"
   ]
  },
  {
   "cell_type": "code",
   "execution_count": 121,
   "id": "958e80ce",
   "metadata": {},
   "outputs": [],
   "source": [
    "df['Last_Change'] = list(df['Change %'].shift(1))\n",
    "df['Target_Change'] = list(df['Change %'].shift(-1))\n",
    "\n"
   ]
  },
  {
   "cell_type": "code",
   "execution_count": 122,
   "id": "45cf0ed3",
   "metadata": {},
   "outputs": [
    {
     "data": {
      "image/png": "[encoded data removed]",
      "text/plain": [
       "<Figure size 1000x600 with 1 Axes>"
      ]
     },
     "metadata": {},
     "output_type": "display_data"
    }
   ],
   "source": [
    "# Assuming df is loaded and has the required columns for plotting\n",
    "\n",
    "# Creating a scatter plot for df['Change_SMA_3'] vs df['Change %']\n",
    "plt.figure(figsize=(10, 6))\n",
    "plt.scatter(df['Change_SMA_3'], df['Change %'], color='b')\n",
    "plt.xlabel('Change_SMA_3')\n",
    "plt.ylabel('Change %')\n",
    "plt.title('Scatter Plot: Change % vs Change_SMA_3')\n",
    "plt.grid(True)\n",
    "plt.show()\n"
   ]
  },
  {
   "cell_type": "code",
   "execution_count": 123,
   "id": "73e2b054",
   "metadata": {},
   "outputs": [
    {
     "name": "stderr",
     "output_type": "stream",
     "text": [
      "/Users/moksh/miniforge3/lib/python3.10/site-packages/sklearn/utils/validation.py:757: FutureWarning: is_sparse is deprecated and will be removed in a future version. Check `isinstance(dtype, pd.SparseDtype)` instead.\n",
      "  if not hasattr(array, \"sparse\") and array.dtypes.apply(is_sparse).any():\n",
      "/Users/moksh/miniforge3/lib/python3.10/site-packages/sklearn/utils/validation.py:595: FutureWarning: is_sparse is deprecated and will be removed in a future version. Check `isinstance(dtype, pd.SparseDtype)` instead.\n",
      "  if is_sparse(pd_dtype):\n",
      "/Users/moksh/miniforge3/lib/python3.10/site-packages/sklearn/utils/validation.py:604: FutureWarning: is_sparse is deprecated and will be removed in a future version. Check `isinstance(dtype, pd.SparseDtype)` instead.\n",
      "  if is_sparse(pd_dtype) or not is_extension_array_dtype(pd_dtype):\n",
      "/Users/moksh/miniforge3/lib/python3.10/site-packages/sklearn/utils/validation.py:757: FutureWarning: is_sparse is deprecated and will be removed in a future version. Check `isinstance(dtype, pd.SparseDtype)` instead.\n",
      "  if not hasattr(array, \"sparse\") and array.dtypes.apply(is_sparse).any():\n",
      "/Users/moksh/miniforge3/lib/python3.10/site-packages/sklearn/utils/validation.py:595: FutureWarning: is_sparse is deprecated and will be removed in a future version. Check `isinstance(dtype, pd.SparseDtype)` instead.\n",
      "  if is_sparse(pd_dtype):\n",
      "/Users/moksh/miniforge3/lib/python3.10/site-packages/sklearn/utils/validation.py:604: FutureWarning: is_sparse is deprecated and will be removed in a future version. Check `isinstance(dtype, pd.SparseDtype)` instead.\n",
      "  if is_sparse(pd_dtype) or not is_extension_array_dtype(pd_dtype):\n"
     ]
    }
   ],
   "source": [
    "from sklearn.preprocessing import StandardScaler\n",
    "\n",
    "# Initialize StandardScaler\n",
    "scaler = StandardScaler()\n",
    "\n",
    "# Standardize the DataFrame\n",
    "df_standardized = pd.DataFrame(scaler.fit_transform(df.drop(\"Change %\", axis =1)), columns=[col for col in df.columns if col !='Change %'])"
   ]
  },
  {
   "cell_type": "code",
   "execution_count": 124,
   "id": "bebd5e15",
   "metadata": {},
   "outputs": [],
   "source": [
    "df_standardized['Target'] = list(df.shift(-1)['Change %'] * 100) "
   ]
  },
  {
   "cell_type": "code",
   "execution_count": 125,
   "id": "d27ce494",
   "metadata": {},
   "outputs": [],
   "source": [
    "def get_label(val):\n",
    "    if val < 0:\n",
    "        return 0\n",
    "    else:\n",
    "        return 1"
   ]
  },
  {
   "cell_type": "code",
   "execution_count": 126,
   "id": "0e6c2a76",
   "metadata": {},
   "outputs": [],
   "source": [
    "df_standardized['Target'] = list(df.shift(-1)['Change %'] * 100) "
   ]
  },
  {
   "cell_type": "code",
   "execution_count": 127,
   "id": "9334bc64",
   "metadata": {},
   "outputs": [],
   "source": [
    "df_standardized['Target'] = df_standardized['Target'].apply(get_label)"
   ]
  },
  {
   "cell_type": "code",
   "execution_count": 128,
   "id": "97bf2672",
   "metadata": {},
   "outputs": [],
   "source": [
    "df_standardized = df_standardized.dropna()"
   ]
  },
  {
   "cell_type": "code",
   "execution_count": 129,
   "id": "16661bef",
   "metadata": {
    "scrolled": true
   },
   "outputs": [
    {
     "data": {
      "text/plain": [
       "Index(['Price', 'Open', 'High', 'Low', 'Vol.', 'RSI', 'CCI', 'RSI_Change',\n",
       "       'ADX', 'Change_SMA_3', 'Change_SMA_5', 'Change_SMA_7', 'Change_SMA_14',\n",
       "       'Last_Change', 'Target_Change', 'Target'],\n",
       "      dtype='object')"
      ]
     },
     "execution_count": 129,
     "metadata": {},
     "output_type": "execute_result"
    }
   ],
   "source": [
    "df_standardized.columns"
   ]
  },
  {
   "cell_type": "code",
   "execution_count": 131,
   "id": "dcc6d541",
   "metadata": {},
   "outputs": [
    {
     "name": "stdout",
     "output_type": "stream",
     "text": [
      "Epoch 1/50\n"
     ]
    },
    {
     "name": "stderr",
     "output_type": "stream",
     "text": [
      "/Users/moksh/miniforge3/lib/python3.10/site-packages/sklearn/utils/validation.py:757: FutureWarning: is_sparse is deprecated and will be removed in a future version. Check `isinstance(dtype, pd.SparseDtype)` instead.\n",
      "  if not hasattr(array, \"sparse\") and array.dtypes.apply(is_sparse).any():\n",
      "/Users/moksh/miniforge3/lib/python3.10/site-packages/sklearn/utils/validation.py:595: FutureWarning: is_sparse is deprecated and will be removed in a future version. Check `isinstance(dtype, pd.SparseDtype)` instead.\n",
      "  if is_sparse(pd_dtype):\n",
      "/Users/moksh/miniforge3/lib/python3.10/site-packages/sklearn/utils/validation.py:604: FutureWarning: is_sparse is deprecated and will be removed in a future version. Check `isinstance(dtype, pd.SparseDtype)` instead.\n",
      "  if is_sparse(pd_dtype) or not is_extension_array_dtype(pd_dtype):\n",
      "/Users/moksh/miniforge3/lib/python3.10/site-packages/sklearn/utils/validation.py:757: FutureWarning: is_sparse is deprecated and will be removed in a future version. Check `isinstance(dtype, pd.SparseDtype)` instead.\n",
      "  if not hasattr(array, \"sparse\") and array.dtypes.apply(is_sparse).any():\n",
      "/Users/moksh/miniforge3/lib/python3.10/site-packages/sklearn/utils/validation.py:595: FutureWarning: is_sparse is deprecated and will be removed in a future version. Check `isinstance(dtype, pd.SparseDtype)` instead.\n",
      "  if is_sparse(pd_dtype):\n",
      "/Users/moksh/miniforge3/lib/python3.10/site-packages/sklearn/utils/validation.py:604: FutureWarning: is_sparse is deprecated and will be removed in a future version. Check `isinstance(dtype, pd.SparseDtype)` instead.\n",
      "  if is_sparse(pd_dtype) or not is_extension_array_dtype(pd_dtype):\n",
      "/Users/moksh/miniforge3/lib/python3.10/site-packages/sklearn/utils/validation.py:757: FutureWarning: is_sparse is deprecated and will be removed in a future version. Check `isinstance(dtype, pd.SparseDtype)` instead.\n",
      "  if not hasattr(array, \"sparse\") and array.dtypes.apply(is_sparse).any():\n",
      "/Users/moksh/miniforge3/lib/python3.10/site-packages/sklearn/utils/validation.py:595: FutureWarning: is_sparse is deprecated and will be removed in a future version. Check `isinstance(dtype, pd.SparseDtype)` instead.\n",
      "  if is_sparse(pd_dtype):\n",
      "/Users/moksh/miniforge3/lib/python3.10/site-packages/sklearn/utils/validation.py:604: FutureWarning: is_sparse is deprecated and will be removed in a future version. Check `isinstance(dtype, pd.SparseDtype)` instead.\n",
      "  if is_sparse(pd_dtype) or not is_extension_array_dtype(pd_dtype):\n"
     ]
    },
    {
     "name": "stdout",
     "output_type": "stream",
     "text": [
      "  8/117 [=>............................] - ETA: 0s - loss: 0.2508 "
     ]
    },
    {
     "name": "stderr",
     "output_type": "stream",
     "text": [
      "2024-09-13 20:39:33.502697: I tensorflow/core/grappler/optimizers/custom_graph_optimizer_registry.cc:114] Plugin optimizer for device_type GPU is enabled.\n"
     ]
    },
    {
     "name": "stdout",
     "output_type": "stream",
     "text": [
      "117/117 [==============================] - ETA: 0s - loss: 0.2506"
     ]
    },
    {
     "name": "stderr",
     "output_type": "stream",
     "text": [
      "2024-09-13 20:39:34.524761: I tensorflow/core/grappler/optimizers/custom_graph_optimizer_registry.cc:114] Plugin optimizer for device_type GPU is enabled.\n"
     ]
    },
    {
     "name": "stdout",
     "output_type": "stream",
     "text": [
      "117/117 [==============================] - 2s 11ms/step - loss: 0.2506 - val_loss: 0.2518\n",
      "Epoch 2/50\n",
      "117/117 [==============================] - 1s 7ms/step - loss: 0.2473 - val_loss: 0.2502\n",
      "Epoch 3/50\n",
      "117/117 [==============================] - 1s 7ms/step - loss: 0.2471 - val_loss: 0.2553\n",
      "Epoch 4/50\n",
      "117/117 [==============================] - 1s 7ms/step - loss: 0.2450 - val_loss: 0.2525\n",
      "Epoch 5/50\n",
      "117/117 [==============================] - 1s 7ms/step - loss: 0.2448 - val_loss: 0.2518\n",
      "Epoch 6/50\n",
      "117/117 [==============================] - 1s 7ms/step - loss: 0.2431 - val_loss: 0.2509\n",
      "Epoch 7/50\n",
      "117/117 [==============================] - 1s 8ms/step - loss: 0.2426 - val_loss: 0.2532\n",
      "Epoch 8/50\n",
      "117/117 [==============================] - 1s 8ms/step - loss: 0.2416 - val_loss: 0.2544\n",
      "Epoch 9/50\n",
      "117/117 [==============================] - 1s 11ms/step - loss: 0.2404 - val_loss: 0.2549\n",
      "Epoch 10/50\n",
      "117/117 [==============================] - 1s 8ms/step - loss: 0.2403 - val_loss: 0.2551\n",
      "Epoch 11/50\n",
      "117/117 [==============================] - 1s 7ms/step - loss: 0.2388 - val_loss: 0.2604\n",
      "Epoch 12/50\n",
      "117/117 [==============================] - 1s 7ms/step - loss: 0.2383 - val_loss: 0.2614\n",
      "Epoch 13/50\n",
      "117/117 [==============================] - 1s 7ms/step - loss: 0.2374 - val_loss: 0.2541\n",
      "Epoch 14/50\n",
      "117/117 [==============================] - 1s 7ms/step - loss: 0.2369 - val_loss: 0.2583\n",
      "Epoch 15/50\n",
      "117/117 [==============================] - 1s 7ms/step - loss: 0.2361 - val_loss: 0.2667\n",
      "Epoch 16/50\n",
      "117/117 [==============================] - 1s 7ms/step - loss: 0.2353 - val_loss: 0.2606\n",
      "Epoch 17/50\n",
      "117/117 [==============================] - 1s 7ms/step - loss: 0.2350 - val_loss: 0.2610\n",
      "Epoch 18/50\n",
      "117/117 [==============================] - 1s 7ms/step - loss: 0.2327 - val_loss: 0.2568\n",
      "Epoch 19/50\n",
      "117/117 [==============================] - 1s 8ms/step - loss: 0.2327 - val_loss: 0.2599\n",
      "Epoch 20/50\n",
      "117/117 [==============================] - 1s 7ms/step - loss: 0.2318 - val_loss: 0.2621\n",
      "Epoch 21/50\n",
      "117/117 [==============================] - 1s 8ms/step - loss: 0.2305 - val_loss: 0.2597\n",
      "Epoch 22/50\n",
      "117/117 [==============================] - 1s 7ms/step - loss: 0.2302 - val_loss: 0.2642\n",
      "Epoch 23/50\n",
      "117/117 [==============================] - 1s 7ms/step - loss: 0.2286 - val_loss: 0.2659\n",
      "Epoch 24/50\n",
      "117/117 [==============================] - 1s 7ms/step - loss: 0.2284 - val_loss: 0.2637\n",
      "Epoch 25/50\n",
      "117/117 [==============================] - 1s 7ms/step - loss: 0.2274 - val_loss: 0.2702\n",
      "Epoch 26/50\n",
      "117/117 [==============================] - 1s 7ms/step - loss: 0.2261 - val_loss: 0.2652\n",
      "Epoch 27/50\n",
      "117/117 [==============================] - 1s 7ms/step - loss: 0.2255 - val_loss: 0.2812\n",
      "Epoch 28/50\n",
      "117/117 [==============================] - 1s 6ms/step - loss: 0.2242 - val_loss: 0.2737\n",
      "Epoch 29/50\n",
      "117/117 [==============================] - 1s 7ms/step - loss: 0.2240 - val_loss: 0.2669\n",
      "Epoch 30/50\n",
      "117/117 [==============================] - 1s 8ms/step - loss: 0.2228 - val_loss: 0.2775\n",
      "Epoch 31/50\n",
      "117/117 [==============================] - 1s 7ms/step - loss: 0.2222 - val_loss: 0.2699\n",
      "Epoch 32/50\n",
      "117/117 [==============================] - 1s 7ms/step - loss: 0.2202 - val_loss: 0.2754\n",
      "Epoch 33/50\n",
      "117/117 [==============================] - 1s 7ms/step - loss: 0.2202 - val_loss: 0.2736\n",
      "Epoch 34/50\n",
      "117/117 [==============================] - 1s 7ms/step - loss: 0.2192 - val_loss: 0.2757\n",
      "Epoch 35/50\n",
      "117/117 [==============================] - 1s 7ms/step - loss: 0.2183 - val_loss: 0.2877\n",
      "Epoch 36/50\n",
      "117/117 [==============================] - 1s 8ms/step - loss: 0.2172 - val_loss: 0.2762\n",
      "Epoch 37/50\n",
      "117/117 [==============================] - 1s 7ms/step - loss: 0.2167 - val_loss: 0.2766\n",
      "Epoch 38/50\n",
      "117/117 [==============================] - 1s 7ms/step - loss: 0.2165 - val_loss: 0.2835\n",
      "Epoch 39/50\n",
      "117/117 [==============================] - 1s 8ms/step - loss: 0.2157 - val_loss: 0.2752\n",
      "Epoch 40/50\n",
      "117/117 [==============================] - 1s 7ms/step - loss: 0.2143 - val_loss: 0.2813\n",
      "Epoch 41/50\n",
      "117/117 [==============================] - 1s 7ms/step - loss: 0.2134 - val_loss: 0.2813\n",
      "Epoch 42/50\n",
      "117/117 [==============================] - 1s 7ms/step - loss: 0.2133 - val_loss: 0.2924\n",
      "Epoch 43/50\n",
      "117/117 [==============================] - 1s 7ms/step - loss: 0.2126 - val_loss: 0.2884\n",
      "Epoch 44/50\n",
      "117/117 [==============================] - 1s 7ms/step - loss: 0.2113 - val_loss: 0.2861\n",
      "Epoch 45/50\n",
      "117/117 [==============================] - 1s 6ms/step - loss: 0.2093 - val_loss: 0.2834\n",
      "Epoch 46/50\n",
      "117/117 [==============================] - 1s 7ms/step - loss: 0.2104 - val_loss: 0.2878\n",
      "Epoch 47/50\n",
      "117/117 [==============================] - 1s 7ms/step - loss: 0.2085 - val_loss: 0.2881\n",
      "Epoch 48/50\n",
      "117/117 [==============================] - 1s 7ms/step - loss: 0.2078 - val_loss: 0.2833\n",
      "Epoch 49/50\n",
      "117/117 [==============================] - 1s 7ms/step - loss: 0.2063 - val_loss: 0.2898\n",
      "Epoch 50/50\n",
      "117/117 [==============================] - 1s 7ms/step - loss: 0.2060 - val_loss: 0.3041\n"
     ]
    },
    {
     "data": {
      "text/plain": [
       "<keras.callbacks.History at 0x174a55b10>"
      ]
     },
     "execution_count": 131,
     "metadata": {},
     "output_type": "execute_result"
    }
   ],
   "source": [
    "\n",
    "\n",
    "# Assuming df_standardized is already defined\n",
    "\n",
    "# 1. Separate the features and the target column\n",
    "X = df_standardized[['Price', 'Open', 'High', 'Low', 'Vol.', 'RSI', 'CCI', 'RSI_Change',\n",
    "       'ADX', 'Change_SMA_3', 'Change_SMA_5', 'Change_SMA_7', 'Change_SMA_14',\n",
    "       'Last_Change',]]  # Features\n",
    "y = df_standardized['Target']  # Target\n",
    "\n",
    "split = 0.75\n",
    "\n",
    "split_index = int(X.shape[0] * split)\n",
    "\n",
    "X_train = X.iloc[:split_index]\n",
    "y_train = y.iloc[:split_index]\n",
    "\n",
    "X_test = X.iloc[split_index:]\n",
    "y_test = y.iloc[split_index:]\n",
    "\n",
    "\n",
    "# 2. Split the data into training and testing sets\n",
    "\n",
    "# 3. Standardize the features (important for neural networks)\n",
    "scaler = StandardScaler()\n",
    "X_train = scaler.fit_transform(X_train)\n",
    "X_test = scaler.transform(X_test)\n",
    "\n",
    "# 4. Initialize the neural network model\n",
    "model = Sequential()\n",
    "\n",
    "# Add input layer (input_dim should match the number of features)\n",
    "model.add(Dense(64, input_dim=X_train.shape[1], activation='relu'))  # 64 neurons in the first hidden layer\n",
    "model.add(Dense(32, activation='relu'))  # 32 neurons in the second hidden layer\n",
    "model.add(Dense(1, activation='sigmoid'))  # Output layer, 1 neuron for regression\n",
    "\n",
    "# 5. Compile the model\n",
    "model.compile(optimizer=Adam(learning_rate=0.001), loss='mean_squared_error')\n",
    "\n",
    "# 6. Train the model\n",
    "model.fit(X_train, y_train, epochs=50, batch_size=32, validation_split=0.2, verbose=1)\n",
    "\n",
    "\n",
    "\n",
    "\n",
    "\n"
   ]
  },
  {
   "cell_type": "code",
   "execution_count": 143,
   "id": "e2b50dee",
   "metadata": {},
   "outputs": [
    {
     "name": "stdout",
     "output_type": "stream",
     "text": [
      "49/49 [==============================] - 0s 2ms/step\n",
      "146/146 [==============================] - 0s 2ms/step\n",
      "49/49 [==============================] - 0s 3ms/step\n"
     ]
    }
   ],
   "source": [
    "# 7. Make predictions on the test set\n",
    "y_pred = model.predict(X_test)\n",
    "y_pred_train = model.predict(X_train)\n",
    "y_pred_proba = model.predict(X_test)"
   ]
  },
  {
   "cell_type": "code",
   "execution_count": 22,
   "id": "3a05695c",
   "metadata": {
    "scrolled": false
   },
   "outputs": [
    {
     "data": {
      "text/plain": [
       "'\\n# 1. Separate the features and the target column\\nX = df_standardized[[\\'Price\\', \\'Open\\', \\'High\\', \\'Low\\', \\'Vol.\\', \\'RSI\\', \\'CCI\\', \\'RSI_Change\\',\\n       \\'ADX\\', \\'Change_SMA_3\\', \\'Change_SMA_5\\', \\'Change_SMA_7\\', \\'Change_SMA_14\\',\\n       \\'Last_Change\\',]]  # Features\\ny = df_standardized[\\'Target\\']  # Target\\n\\n# 2. Split the data into training and testing sets (optional but recommended)\\nX_train, X_test, y_train, y_test = train_test_split(X, y, test_size=0.2, random_state=42)\\n\\n# 3. Initialize the linear regression model\\nmodel = RandomForestRegressor()\\n\\n# 4. Train the model\\nmodel.fit(X_train, y_train)\\n\\n# 5. Make predictions on the test set\\ny_pred = model.predict(X_test)\\n\\n# 6. Evaluate the model (optional)\\nmse = mean_squared_error(y_test, y_pred)\\nprint(\"Mean Squared Error:\", mse)\\n'"
      ]
     },
     "execution_count": 22,
     "metadata": {},
     "output_type": "execute_result"
    }
   ],
   "source": [
    "\"\"\"\n",
    "# 1. Separate the features and the target column\n",
    "X = df_standardized[['Price', 'Open', 'High', 'Low', 'Vol.', 'RSI', 'CCI', 'RSI_Change',\n",
    "       'ADX', 'Change_SMA_3', 'Change_SMA_5', 'Change_SMA_7', 'Change_SMA_14',\n",
    "       'Last_Change',]]  # Features\n",
    "y = df_standardized['Target']  # Target\n",
    "\n",
    "# 2. Split the data into training and testing sets (optional but recommended)\n",
    "X_train, X_test, y_train, y_test = train_test_split(X, y, test_size=0.2, random_state=42)\n",
    "\n",
    "# 3. Initialize the linear regression model\n",
    "model = RandomForestRegressor()\n",
    "\n",
    "# 4. Train the model\n",
    "model.fit(X_train, y_train)\n",
    "\n",
    "# 5. Make predictions on the test set\n",
    "y_pred = model.predict(X_test)\n",
    "\n",
    "# 6. Evaluate the model (optional)\n",
    "mse = mean_squared_error(y_test, y_pred)\n",
    "print(\"Mean Squared Error:\", mse)\n",
    "\"\"\"\n"
   ]
  },
  {
   "cell_type": "code",
   "execution_count": 144,
   "id": "951ef6de",
   "metadata": {},
   "outputs": [],
   "source": [
    "y_pred = [1 if val > 0.5 else 0 for val in y_pred]"
   ]
  },
  {
   "cell_type": "code",
   "execution_count": 145,
   "id": "6ec5d543",
   "metadata": {
    "scrolled": true
   },
   "outputs": [
    {
     "name": "stdout",
     "output_type": "stream",
     "text": [
      "              precision    recall  f1-score   support\n",
      "\n",
      "           0       0.50      0.19      0.27       700\n",
      "           1       0.56      0.85      0.67       854\n",
      "\n",
      "    accuracy                           0.55      1554\n",
      "   macro avg       0.53      0.52      0.47      1554\n",
      "weighted avg       0.53      0.55      0.49      1554\n",
      "\n"
     ]
    }
   ],
   "source": [
    "print(classification_report(y_test, y_pred))"
   ]
  },
  {
   "cell_type": "code",
   "execution_count": 152,
   "id": "586f7a97",
   "metadata": {},
   "outputs": [],
   "source": [
    "combo_results = []\n",
    "for j in range(1,100):\n",
    "    threshold = float(j/100)\n",
    "    results = []\n",
    "    y_test = list(y_test)\n",
    "    y_pred = list(y_pred)\n",
    "    for i in range(len(list(y_test))):\n",
    "        if y_pred_proba[i] > threshold:\n",
    "\n",
    "            results.append(y_pred[i] == y_test[i])\n",
    "    if results:\n",
    "        combo_results.append({j:(sum(results)/len(results), len(results))})\n",
    "            \n"
   ]
  },
  {
   "cell_type": "code",
   "execution_count": 163,
   "id": "dc9e491d",
   "metadata": {
    "scrolled": true
   },
   "outputs": [],
   "source": [
    "vals = [list(combo.values())[0][0] for combo in combo_results]"
   ]
  },
  {
   "cell_type": "code",
   "execution_count": 170,
   "id": "583efc5f",
   "metadata": {},
   "outputs": [
    {
     "data": {
      "image/png": "[encoded data removed]",
      "text/plain": [
       "<Figure size 1000x600 with 1 Axes>"
      ]
     },
     "metadata": {},
     "output_type": "display_data"
    }
   ],
   "source": [
    "# Assuming df is loaded and has the required columns for plotting\n",
    "\n",
    "# Creating a scatter plot for df['Change_SMA_3'] vs df['Change %']\n",
    "plt.figure(figsize=(10, 6))\n",
    "plt.scatter(list(range(len(vals))), vals, color='b')\n",
    "plt.xlabel('Threshold %')\n",
    "plt.ylabel('Accuracy %')\n",
    "plt.title('Scatter Plot: Threshold vs Model Accuracy ')\n",
    "plt.grid(True)\n",
    "plt.show()\n"
   ]
  },
  {
   "cell_type": "code",
   "execution_count": null,
   "id": "93752f6a",
   "metadata": {},
   "outputs": [],
   "source": []
  },
  {
   "cell_type": "code",
   "execution_count": 173,
   "id": "1d473c34",
   "metadata": {},
   "outputs": [],
   "source": [
    "split = 0.75\n",
    "\n",
    "split_index = int(X.shape[0] * split)\n",
    "df_backtest = df.iloc[split_index:]"
   ]
  },
  {
   "cell_type": "code",
   "execution_count": null,
   "id": "06e312e1",
   "metadata": {},
   "outputs": [],
   "source": [
    "y_test = "
   ]
  },
  {
   "cell_type": "code",
   "execution_count": 96,
   "id": "c4f3ee64",
   "metadata": {},
   "outputs": [],
   "source": [
    "#threshold: confidence = 0.75\n",
    "#limit to one position at a time\n",
    "#risk-free rate at 4.5% -> this is the rate sittting capital grows at\n",
    "#margin rate is 10% -> this is how much of the position should be in the margin account at all times\n",
    "#2% interest accrued in margin -> this is how much that margin grows a year\n",
    "#initial portfolio value \n",
    "#index rate is 7.4% annualized\n"
   ]
  },
  {
   "cell_type": "code",
   "execution_count": 98,
   "id": "69e2b701",
   "metadata": {},
   "outputs": [
    {
     "data": {
      "text/html": [
       "<div>\n",
       "<style scoped>\n",
       "    .dataframe tbody tr th:only-of-type {\n",
       "        vertical-align: middle;\n",
       "    }\n",
       "\n",
       "    .dataframe tbody tr th {\n",
       "        vertical-align: top;\n",
       "    }\n",
       "\n",
       "    .dataframe thead th {\n",
       "        text-align: right;\n",
       "    }\n",
       "</style>\n",
       "<table border=\"1\" class=\"dataframe\">\n",
       "  <thead>\n",
       "    <tr style=\"text-align: right;\">\n",
       "      <th></th>\n",
       "      <th>Price</th>\n",
       "      <th>Open</th>\n",
       "      <th>High</th>\n",
       "      <th>Low</th>\n",
       "      <th>Vol.</th>\n",
       "      <th>Change %</th>\n",
       "      <th>RSI</th>\n",
       "      <th>CCI</th>\n",
       "      <th>RSI_Change</th>\n",
       "      <th>ADX</th>\n",
       "      <th>Change_SMA_3</th>\n",
       "      <th>Change_SMA_5</th>\n",
       "      <th>Change_SMA_7</th>\n",
       "      <th>Change_SMA_14</th>\n",
       "      <th>Last_Change</th>\n",
       "      <th>Target_Change</th>\n",
       "    </tr>\n",
       "    <tr>\n",
       "      <th>Date</th>\n",
       "      <th></th>\n",
       "      <th></th>\n",
       "      <th></th>\n",
       "      <th></th>\n",
       "      <th></th>\n",
       "      <th></th>\n",
       "      <th></th>\n",
       "      <th></th>\n",
       "      <th></th>\n",
       "      <th></th>\n",
       "      <th></th>\n",
       "      <th></th>\n",
       "      <th></th>\n",
       "      <th></th>\n",
       "      <th></th>\n",
       "      <th></th>\n",
       "    </tr>\n",
       "  </thead>\n",
       "  <tbody>\n",
       "    <tr>\n",
       "      <th>2000-01-10</th>\n",
       "      <td>282.7</td>\n",
       "      <td>282.40</td>\n",
       "      <td>283.90</td>\n",
       "      <td>281.8</td>\n",
       "      <td>30600.0</td>\n",
       "      <td>-0.0007</td>\n",
       "      <td>NaN</td>\n",
       "      <td>NaN</td>\n",
       "      <td>NaN</td>\n",
       "      <td>NaN</td>\n",
       "      <td>NaN</td>\n",
       "      <td>NaN</td>\n",
       "      <td>NaN</td>\n",
       "      <td>NaN</td>\n",
       "      <td>NaN</td>\n",
       "      <td>0.0060</td>\n",
       "    </tr>\n",
       "    <tr>\n",
       "      <th>2000-01-11</th>\n",
       "      <td>284.4</td>\n",
       "      <td>282.40</td>\n",
       "      <td>285.30</td>\n",
       "      <td>281.9</td>\n",
       "      <td>13500.0</td>\n",
       "      <td>0.0060</td>\n",
       "      <td>NaN</td>\n",
       "      <td>NaN</td>\n",
       "      <td>NaN</td>\n",
       "      <td>NaN</td>\n",
       "      <td>NaN</td>\n",
       "      <td>NaN</td>\n",
       "      <td>NaN</td>\n",
       "      <td>NaN</td>\n",
       "      <td>-0.0007</td>\n",
       "      <td>-0.0025</td>\n",
       "    </tr>\n",
       "    <tr>\n",
       "      <th>2000-01-12</th>\n",
       "      <td>283.7</td>\n",
       "      <td>284.50</td>\n",
       "      <td>285.00</td>\n",
       "      <td>282.5</td>\n",
       "      <td>17840.0</td>\n",
       "      <td>-0.0025</td>\n",
       "      <td>NaN</td>\n",
       "      <td>NaN</td>\n",
       "      <td>NaN</td>\n",
       "      <td>NaN</td>\n",
       "      <td>NaN</td>\n",
       "      <td>NaN</td>\n",
       "      <td>NaN</td>\n",
       "      <td>NaN</td>\n",
       "      <td>0.0060</td>\n",
       "      <td>0.0049</td>\n",
       "    </tr>\n",
       "    <tr>\n",
       "      <th>2000-01-13</th>\n",
       "      <td>285.1</td>\n",
       "      <td>283.50</td>\n",
       "      <td>285.90</td>\n",
       "      <td>282.9</td>\n",
       "      <td>12170.0</td>\n",
       "      <td>0.0049</td>\n",
       "      <td>NaN</td>\n",
       "      <td>NaN</td>\n",
       "      <td>62.389381</td>\n",
       "      <td>NaN</td>\n",
       "      <td>9.333333e-04</td>\n",
       "      <td>NaN</td>\n",
       "      <td>NaN</td>\n",
       "      <td>NaN</td>\n",
       "      <td>-0.0025</td>\n",
       "      <td>-0.0007</td>\n",
       "    </tr>\n",
       "    <tr>\n",
       "      <th>2000-01-14</th>\n",
       "      <td>284.9</td>\n",
       "      <td>285.20</td>\n",
       "      <td>285.60</td>\n",
       "      <td>284.0</td>\n",
       "      <td>32340.0</td>\n",
       "      <td>-0.0007</td>\n",
       "      <td>NaN</td>\n",
       "      <td>NaN</td>\n",
       "      <td>45.483871</td>\n",
       "      <td>NaN</td>\n",
       "      <td>2.800000e-03</td>\n",
       "      <td>NaN</td>\n",
       "      <td>NaN</td>\n",
       "      <td>NaN</td>\n",
       "      <td>0.0049</td>\n",
       "      <td>0.0165</td>\n",
       "    </tr>\n",
       "    <tr>\n",
       "      <th>...</th>\n",
       "      <td>...</td>\n",
       "      <td>...</td>\n",
       "      <td>...</td>\n",
       "      <td>...</td>\n",
       "      <td>...</td>\n",
       "      <td>...</td>\n",
       "      <td>...</td>\n",
       "      <td>...</td>\n",
       "      <td>...</td>\n",
       "      <td>...</td>\n",
       "      <td>...</td>\n",
       "      <td>...</td>\n",
       "      <td>...</td>\n",
       "      <td>...</td>\n",
       "      <td>...</td>\n",
       "      <td>...</td>\n",
       "    </tr>\n",
       "    <tr>\n",
       "      <th>2024-09-06</th>\n",
       "      <td>2524.6</td>\n",
       "      <td>2547.10</td>\n",
       "      <td>2559.80</td>\n",
       "      <td>2513.9</td>\n",
       "      <td>228120.0</td>\n",
       "      <td>-0.0073</td>\n",
       "      <td>53.588173</td>\n",
       "      <td>-52.149412</td>\n",
       "      <td>35.760725</td>\n",
       "      <td>15.366155</td>\n",
       "      <td>2.066667e-03</td>\n",
       "      <td>0.00046</td>\n",
       "      <td>-0.000643</td>\n",
       "      <td>0.001486</td>\n",
       "      <td>0.0068</td>\n",
       "      <td>0.0032</td>\n",
       "    </tr>\n",
       "    <tr>\n",
       "      <th>2024-09-09</th>\n",
       "      <td>2532.7</td>\n",
       "      <td>2526.50</td>\n",
       "      <td>2536.50</td>\n",
       "      <td>2514.2</td>\n",
       "      <td>140580.0</td>\n",
       "      <td>0.0032</td>\n",
       "      <td>55.222585</td>\n",
       "      <td>-76.700812</td>\n",
       "      <td>57.503680</td>\n",
       "      <td>14.289797</td>\n",
       "      <td>2.333333e-04</td>\n",
       "      <td>-0.00278</td>\n",
       "      <td>-0.001557</td>\n",
       "      <td>-0.000336</td>\n",
       "      <td>-0.0073</td>\n",
       "      <td>0.0041</td>\n",
       "    </tr>\n",
       "    <tr>\n",
       "      <th>2024-09-10</th>\n",
       "      <td>2543.1</td>\n",
       "      <td>2536.00</td>\n",
       "      <td>2547.50</td>\n",
       "      <td>2528.9</td>\n",
       "      <td>156110.0</td>\n",
       "      <td>0.0041</td>\n",
       "      <td>57.301692</td>\n",
       "      <td>13.686129</td>\n",
       "      <td>59.275886</td>\n",
       "      <td>13.735941</td>\n",
       "      <td>9.000000e-04</td>\n",
       "      <td>0.00042</td>\n",
       "      <td>-0.000257</td>\n",
       "      <td>-0.000207</td>\n",
       "      <td>0.0032</td>\n",
       "      <td>-0.0003</td>\n",
       "    </tr>\n",
       "    <tr>\n",
       "      <th>2024-09-11</th>\n",
       "      <td>2542.4</td>\n",
       "      <td>2545.70</td>\n",
       "      <td>2558.00</td>\n",
       "      <td>2529.0</td>\n",
       "      <td>194090.0</td>\n",
       "      <td>-0.0003</td>\n",
       "      <td>57.109482</td>\n",
       "      <td>39.509600</td>\n",
       "      <td>45.393654</td>\n",
       "      <td>13.625114</td>\n",
       "      <td>1.821460e-17</td>\n",
       "      <td>0.00160</td>\n",
       "      <td>-0.000943</td>\n",
       "      <td>-0.000179</td>\n",
       "      <td>0.0041</td>\n",
       "      <td>0.0173</td>\n",
       "    </tr>\n",
       "    <tr>\n",
       "      <th>2024-09-12</th>\n",
       "      <td>2586.3</td>\n",
       "      <td>2539.55</td>\n",
       "      <td>2588.45</td>\n",
       "      <td>2538.8</td>\n",
       "      <td>NaN</td>\n",
       "      <td>0.0173</td>\n",
       "      <td>65.031503</td>\n",
       "      <td>204.487537</td>\n",
       "      <td>77.296374</td>\n",
       "      <td>14.518136</td>\n",
       "      <td>2.333333e-03</td>\n",
       "      <td>0.00130</td>\n",
       "      <td>0.000843</td>\n",
       "      <td>-0.000114</td>\n",
       "      <td>-0.0003</td>\n",
       "      <td>NaN</td>\n",
       "    </tr>\n",
       "  </tbody>\n",
       "</table>\n",
       "<p>6254 rows × 16 columns</p>\n",
       "</div>"
      ],
      "text/plain": [
       "             Price     Open     High     Low      Vol.  Change %        RSI  \\\n",
       "Date                                                                          \n",
       "2000-01-10   282.7   282.40   283.90   281.8   30600.0   -0.0007        NaN   \n",
       "2000-01-11   284.4   282.40   285.30   281.9   13500.0    0.0060        NaN   \n",
       "2000-01-12   283.7   284.50   285.00   282.5   17840.0   -0.0025        NaN   \n",
       "2000-01-13   285.1   283.50   285.90   282.9   12170.0    0.0049        NaN   \n",
       "2000-01-14   284.9   285.20   285.60   284.0   32340.0   -0.0007        NaN   \n",
       "...            ...      ...      ...     ...       ...       ...        ...   \n",
       "2024-09-06  2524.6  2547.10  2559.80  2513.9  228120.0   -0.0073  53.588173   \n",
       "2024-09-09  2532.7  2526.50  2536.50  2514.2  140580.0    0.0032  55.222585   \n",
       "2024-09-10  2543.1  2536.00  2547.50  2528.9  156110.0    0.0041  57.301692   \n",
       "2024-09-11  2542.4  2545.70  2558.00  2529.0  194090.0   -0.0003  57.109482   \n",
       "2024-09-12  2586.3  2539.55  2588.45  2538.8       NaN    0.0173  65.031503   \n",
       "\n",
       "                   CCI  RSI_Change        ADX  Change_SMA_3  Change_SMA_5  \\\n",
       "Date                                                                        \n",
       "2000-01-10         NaN         NaN        NaN           NaN           NaN   \n",
       "2000-01-11         NaN         NaN        NaN           NaN           NaN   \n",
       "2000-01-12         NaN         NaN        NaN           NaN           NaN   \n",
       "2000-01-13         NaN   62.389381        NaN  9.333333e-04           NaN   \n",
       "2000-01-14         NaN   45.483871        NaN  2.800000e-03           NaN   \n",
       "...                ...         ...        ...           ...           ...   \n",
       "2024-09-06  -52.149412   35.760725  15.366155  2.066667e-03       0.00046   \n",
       "2024-09-09  -76.700812   57.503680  14.289797  2.333333e-04      -0.00278   \n",
       "2024-09-10   13.686129   59.275886  13.735941  9.000000e-04       0.00042   \n",
       "2024-09-11   39.509600   45.393654  13.625114  1.821460e-17       0.00160   \n",
       "2024-09-12  204.487537   77.296374  14.518136  2.333333e-03       0.00130   \n",
       "\n",
       "            Change_SMA_7  Change_SMA_14  Last_Change  Target_Change  \n",
       "Date                                                                 \n",
       "2000-01-10           NaN            NaN          NaN         0.0060  \n",
       "2000-01-11           NaN            NaN      -0.0007        -0.0025  \n",
       "2000-01-12           NaN            NaN       0.0060         0.0049  \n",
       "2000-01-13           NaN            NaN      -0.0025        -0.0007  \n",
       "2000-01-14           NaN            NaN       0.0049         0.0165  \n",
       "...                  ...            ...          ...            ...  \n",
       "2024-09-06     -0.000643       0.001486       0.0068         0.0032  \n",
       "2024-09-09     -0.001557      -0.000336      -0.0073         0.0041  \n",
       "2024-09-10     -0.000257      -0.000207       0.0032        -0.0003  \n",
       "2024-09-11     -0.000943      -0.000179       0.0041         0.0173  \n",
       "2024-09-12      0.000843      -0.000114      -0.0003            NaN  \n",
       "\n",
       "[6254 rows x 16 columns]"
      ]
     },
     "execution_count": 98,
     "metadata": {},
     "output_type": "execute_result"
    }
   ],
   "source": [
    "for i, row in df_backtest.iterrows():\n",
    "    if row == \n",
    "    \n",
    "    \n",
    "    \n",
    "    "
   ]
  },
  {
   "cell_type": "code",
   "execution_count": null,
   "id": "1d3ba38c",
   "metadata": {},
   "outputs": [],
   "source": []
  }
 ],
 "metadata": {
  "kernelspec": {
   "display_name": "Python 3 (ipykernel)",
   "language": "python",
   "name": "python3"
  },
  "language_info": {
   "codemirror_mode": {
    "name": "ipython",
    "version": 3
   },
   "file_extension": ".py",
   "mimetype": "text/x-python",
   "name": "python",
   "nbconvert_exporter": "python",
   "pygments_lexer": "ipython3",
   "version": "3.10.6"
  }
 },
 "nbformat": 4,
 "nbformat_minor": 5
}
